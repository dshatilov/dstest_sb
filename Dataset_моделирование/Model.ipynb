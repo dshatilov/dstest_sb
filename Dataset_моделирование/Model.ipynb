{
 "cells": [
  {
   "cell_type": "code",
   "execution_count": null,
   "metadata": {},
   "outputs": [],
   "source": [
    "import warnings\n",
    "warnings.filterwarnings('ignore')\n",
    "import pandas as pd\n",
    "import numpy as np\n",
    "from pandas import Timestamp\n",
    "import matplotlib.pyplot as plt\n",
    "plt.style.use('ggplot')\n",
    "%matplotlib inline\n",
    "from sklearn.cross_validation import train_test_split\n",
    "from sklearn.model_selection import GridSearchCV, cross_val_score\n",
    "from sklearn.ensemble import  GradientBoostingClassifier\n",
    "from sklearn.metrics import roc_curve, roc_auc_score\n",
    "from sklearn.preprocessing import StandardScaler"
   ]
  },
  {
   "cell_type": "code",
   "execution_count": 2,
   "metadata": {},
   "outputs": [],
   "source": [
    "pd.set_option('display.max_columns', None)"
   ]
  },
  {
   "cell_type": "markdown",
   "metadata": {},
   "source": [
    "Загружаем данные"
   ]
  },
  {
   "cell_type": "code",
   "execution_count": 3,
   "metadata": {},
   "outputs": [],
   "source": [
    "data_row = pd.read_csv('train.csv', engine='python')\n",
    "test_row = pd.read_csv('test.csv', engine='python')"
   ]
  },
  {
   "cell_type": "markdown",
   "metadata": {},
   "source": [
    "Создаём функции для подготовки данных"
   ]
  },
  {
   "cell_type": "code",
   "execution_count": 4,
   "metadata": {},
   "outputs": [],
   "source": [
    "def prepare_train(dataset):\n",
    "#     Удалёние незначимых столбцов\n",
    "    dataset = dataset.drop(columns=['agency_name', 'inspector_name', 'violation_street_name', 'violation_zip_code',\n",
    "                'mailing_address_str_number', 'mailing_address_str_name', 'zip_code',\n",
    "                'non_us_str_code', 'country', 'violation_description', 'disposition',\n",
    "                'collection_status', 'grafitti_status', 'payment_date', 'balance_due',\n",
    "                'clean_up_cost', 'violator_name', 'ticket_id', 'violation_street_number',\n",
    "                'admin_fee', 'state_fee', 'payment_amount', 'payment_status', 'compliance_detail',\n",
    "                'city', 'state', 'violation_code'])\n",
    "#     Отчистка пропусков\n",
    "    dataset = dataset.dropna()\n",
    "    dataset = dataset.reset_index(drop=True)\n",
    "#     Получение значения интевала в днях с момента выявления нарушения и до даты слушаний\n",
    "    dataset.ticket_issued_date = dataset.ticket_issued_date.astype('datetime64')\n",
    "    dataset.hearing_date = dataset.hearing_date.astype('datetime64')\n",
    "    dataset.insert(0,'date', dataset.hearing_date - dataset.ticket_issued_date)\n",
    "    dataset = dataset.drop(columns=['ticket_issued_date', 'hearing_date'])\n",
    "    dataset.date[dataset.date<pd.to_timedelta(0)]=pd.to_timedelta(0)\n",
    "    a = list(dataset.date)\n",
    "    b = [i.days for i in a]\n",
    "    dataset.date = b\n",
    "    del a, b\n",
    "    target = dataset.compliance\n",
    "    dataset.drop(columns=['compliance'], inplace=True)\n",
    "#      Возвращаем обработанные данные, массив ответов\n",
    "    return dataset, target"
   ]
  },
  {
   "cell_type": "code",
   "execution_count": 5,
   "metadata": {},
   "outputs": [],
   "source": [
    "# Аналогичная функция для подготовки тестовых данных\n",
    "def prepare_test(dataset):\n",
    "    dataset = dataset.drop(columns=['agency_name', 'inspector_name', 'violation_street_name', 'violation_zip_code',\n",
    "                'mailing_address_str_number', 'mailing_address_str_name', 'zip_code',\n",
    "                'non_us_str_code', 'country', 'violation_description', 'disposition',\n",
    "                'grafitti_status', \n",
    "                'clean_up_cost', 'violator_name', 'violation_street_number',\n",
    "                'admin_fee', 'state_fee', 'city', 'state', 'violation_code'])\n",
    "    dataset.ticket_issued_date = dataset.ticket_issued_date.astype('datetime64')\n",
    "    dataset.hearing_date = dataset.hearing_date.astype('datetime64')\n",
    "    dataset.insert(0,'date', dataset.hearing_date - dataset.ticket_issued_date)\n",
    "    dataset = dataset.drop(columns=['ticket_issued_date', 'hearing_date'])\n",
    "#     Заполняем пропущенные значения\n",
    "    dataset.date.fillna(dataset.date.mean(), inplace=True)\n",
    "    dataset.date[dataset.date<pd.to_timedelta(0)]=dataset.date.mean()\n",
    "    a = list(dataset.date)\n",
    "    b = [i.days for i in a]\n",
    "    dataset.date = b\n",
    "    del a, b\n",
    "    ticket = dataset.ticket_id\n",
    "    dataset.drop(columns=['ticket_id'], inplace=True)\n",
    "    return dataset, ticket"
   ]
  },
  {
   "cell_type": "code",
   "execution_count": 6,
   "metadata": {},
   "outputs": [],
   "source": [
    "# Готовим обучающие данные\n",
    "data, target = prepare_train(data_row)"
   ]
  },
  {
   "cell_type": "code",
   "execution_count": 7,
   "metadata": {},
   "outputs": [],
   "source": [
    "X_train, X_test, y_train, y_test = train_test_split(data, target, test_size=0.3, random_state=6)"
   ]
  },
  {
   "cell_type": "code",
   "execution_count": 8,
   "metadata": {},
   "outputs": [
    {
     "data": {
      "text/plain": [
       "GradientBoostingClassifier(criterion='friedman_mse', init=None,\n",
       "              learning_rate=0.1, loss='deviance', max_depth=5,\n",
       "              max_features='sqrt', max_leaf_nodes=None,\n",
       "              min_impurity_decrease=0.0, min_impurity_split=None,\n",
       "              min_samples_leaf=1, min_samples_split=2,\n",
       "              min_weight_fraction_leaf=0.0, n_estimators=40,\n",
       "              presort='auto', random_state=None, subsample=1.0, verbose=0,\n",
       "              warm_start=False)"
      ]
     },
     "execution_count": 8,
     "metadata": {},
     "output_type": "execute_result"
    }
   ],
   "source": [
    "# Создаём и обучаем классификатор с подобранными параметрами\n",
    "modelgb = GradientBoostingClassifier(max_features = 'sqrt', max_depth = 5, n_estimators = 40)\n",
    "modelgb.fit(X_train, y_train)"
   ]
  },
  {
   "cell_type": "code",
   "execution_count": 9,
   "metadata": {},
   "outputs": [
    {
     "name": "stdout",
     "output_type": "stream",
     "text": [
      "accuracy 0.9358192750960415\n",
      "auc 0.7693491375900839\n"
     ]
    },
    {
     "data": {
      "image/png": "[encoded data removed]",
      "text/plain": [
       "<Figure size 432x288 with 1 Axes>"
      ]
     },
     "metadata": {},
     "output_type": "display_data"
    }
   ],
   "source": [
    "# Получаем оценку и строим roc кривую\n",
    "gb_predict_p = modelgb.predict_proba(X_test)\n",
    "fpr, tpr, _ = roc_curve(y_test, gb_predict_p[:,1])\n",
    "plt.plot(fpr,tpr)\n",
    "plt.ylabel('tpr')\n",
    "plt.xlabel('fpr')\n",
    "plt.title('ROC_AUC')\n",
    "print('accuracy', modelgb.score(X_test, y_test))\n",
    "print('auc', roc_auc_score(y_test, gb_predict_p[:,1]))"
   ]
  },
  {
   "cell_type": "code",
   "execution_count": 10,
   "metadata": {},
   "outputs": [
    {
     "data": {
      "text/plain": [
       "GradientBoostingClassifier(criterion='friedman_mse', init=None,\n",
       "              learning_rate=0.1, loss='deviance', max_depth=5,\n",
       "              max_features='sqrt', max_leaf_nodes=None,\n",
       "              min_impurity_decrease=0.0, min_impurity_split=None,\n",
       "              min_samples_leaf=1, min_samples_split=2,\n",
       "              min_weight_fraction_leaf=0.0, n_estimators=40,\n",
       "              presort='auto', random_state=None, subsample=1.0, verbose=0,\n",
       "              warm_start=False)"
      ]
     },
     "execution_count": 10,
     "metadata": {},
     "output_type": "execute_result"
    }
   ],
   "source": [
    "modelgb = GradientBoostingClassifier(max_features = 'sqrt', max_depth = 5, n_estimators = 40)\n",
    "modelgb.fit(data, target)"
   ]
  },
  {
   "cell_type": "code",
   "execution_count": 11,
   "metadata": {},
   "outputs": [],
   "source": [
    "# Готовим тестовые данные\n",
    "test, ticket = prepare_test(test_row)\n",
    "# Предсказываем вероятности\n",
    "predicted = modelgb.predict_proba(test)[:,1]"
   ]
  },
  {
   "cell_type": "code",
   "execution_count": 12,
   "metadata": {},
   "outputs": [],
   "source": [
    "# Сохраняем результат в требуемом формате\n",
    "result = pd.concat([ticket, pd.Series(predicted, name='probability')], axis=1)\n",
    "result.to_csv('result.csv')"
   ]
  },
  {
   "cell_type": "code",
   "execution_count": null,
   "metadata": {},
   "outputs": [],
   "source": []
  }
 ],
 "metadata": {
  "kernelspec": {
   "display_name": "Python 3",
   "language": "python",
   "name": "python3"
  },
  "language_info": {
   "codemirror_mode": {
    "name": "ipython",
    "version": 3
   },
   "file_extension": ".py",
   "mimetype": "text/x-python",
   "name": "python",
   "nbconvert_exporter": "python",
   "pygments_lexer": "ipython3",
   "version": "3.7.0"
  }
 },
 "nbformat": 4,
 "nbformat_minor": 2
}
